{
 "cells": [
  {
   "cell_type": "code",
   "execution_count": 4,
   "id": "d44a0f82-792e-4504-942f-fa556e0f3729",
   "metadata": {},
   "outputs": [
    {
     "data": {
      "text/plain": [
       "{'gpt-35-turbo': np.float32(-0.16393547),\n",
       " 'gpt-4o': np.float32(-0.22431158),\n",
       " 'gpt-4': np.float32(-0.084557414),\n",
       " 'claude3opus': np.float32(-0.32143763),\n",
       " 'claude3sonnet5': np.float32(-0.26128024),\n",
       " 'claude3sonnet': np.float32(0.42277068),\n",
       " 'claude3haiku': np.float32(-0.018462598),\n",
       " 'commandrplus': np.float32(-0.054872647),\n",
       " 'commandrbasic': np.float32(-0.13524169),\n",
       " 'llamallama3-70b': np.float32(1.6736692),\n",
       " 'llamallama3-8b': np.float32(-0.12971321),\n",
       " 'llamallama2-70b': np.float32(0.055728346),\n",
       " 'llamallama2-13b': np.float32(0.39503032),\n",
       " 'mistralmistral-7b': np.float32(-0.2246772),\n",
       " 'mistralmixtral-8x7b': np.float32(-0.07445856),\n",
       " 'mistralmistral-large': np.float32(0.14975908)}"
      ]
     },
     "execution_count": 4,
     "metadata": {},
     "output_type": "execute_result"
    }
   ],
   "source": [
    "#!wget https://huggingface.co/datasets/david4096/wildbio/blob/main/benchmark_lg_embed-distance.pkl\n",
    "import pickle\n",
    "#with open('benchmark_lg_embed-distance.pkl', 'rb') as f:  # Open file in write-binary mode\n",
    "#    bdx = pickle.load(f) \n",
    "\n",
    "# this is the original dataset with added fields\n",
    "# original question\n",
    "bdx[168]['conversation'][0]\n",
    "# original response\n",
    "bdx[168]['conversation'][0]\n",
    "# dictionary of LLM responses\n",
    "bdx[168]['compare']\n",
    "# dictionary of levenshtein distances\n",
    "bdx[168]['response-ldistances']\n",
    "# levenshtein similarity calculation to original response\n",
    "bdx[168]['response-similarity']\n",
    "# embedding of prompt\n",
    "bdx[168]['prompt-embed']\n",
    "#embedding of original response\n",
    "bdx[168]['response-embed']\n",
    "# dictionary of embeddings for responses\n",
    "bdx[168]['embeddings']\n",
    "# distance in embedding space to original response\n",
    "bdx[168]['response-sdistances']\n"
   ]
  },
  {
   "cell_type": "code",
   "execution_count": null,
   "id": "cda46704-b089-4f58-b24d-ec6c0f936e78",
   "metadata": {},
   "outputs": [],
   "source": []
  }
 ],
 "metadata": {
  "kernelspec": {
   "display_name": "Python 3 (ipykernel)",
   "language": "python",
   "name": "python3"
  },
  "language_info": {
   "codemirror_mode": {
    "name": "ipython",
    "version": 3
   },
   "file_extension": ".py",
   "mimetype": "text/x-python",
   "name": "python",
   "nbconvert_exporter": "python",
   "pygments_lexer": "ipython3",
   "version": "3.12.5"
  }
 },
 "nbformat": 4,
 "nbformat_minor": 5
}
