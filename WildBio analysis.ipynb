{
 "cells": [
  {
   "cell_type": "code",
   "execution_count": 3,
   "id": "d44a0f82-792e-4504-942f-fa556e0f3729",
   "metadata": {},
   "outputs": [
    {
     "ename": "TypeError",
     "evalue": "list indices must be integers or slices, not str",
     "output_type": "error",
     "traceback": [
      "\u001b[0;31m---------------------------------------------------------------------------\u001b[0m",
      "\u001b[0;31mTypeError\u001b[0m                                 Traceback (most recent call last)",
      "Cell \u001b[0;32mIn[3], line 18\u001b[0m\n\u001b[1;32m     16\u001b[0m bdx[\u001b[38;5;241m168\u001b[39m][\u001b[38;5;124m'\u001b[39m\u001b[38;5;124mresponse-similarity\u001b[39m\u001b[38;5;124m'\u001b[39m]\n\u001b[1;32m     17\u001b[0m \u001b[38;5;66;03m# embedding of prompt\u001b[39;00m\n\u001b[0;32m---> 18\u001b[0m \u001b[43mbdx\u001b[49m\u001b[43m[\u001b[49m\u001b[38;5;124;43m'\u001b[39;49m\u001b[38;5;124;43mprompt-embed\u001b[39;49m\u001b[38;5;124;43m'\u001b[39;49m\u001b[43m]\u001b[49m\n\u001b[1;32m     19\u001b[0m \u001b[38;5;66;03m#embedding of original response\u001b[39;00m\n\u001b[1;32m     20\u001b[0m bdx[\u001b[38;5;241m168\u001b[39m][\u001b[38;5;124m'\u001b[39m\u001b[38;5;124mresponse-embed\u001b[39m\u001b[38;5;124m'\u001b[39m]\n",
      "\u001b[0;31mTypeError\u001b[0m: list indices must be integers or slices, not str"
     ]
    }
   ],
   "source": [
    "#!wget https://huggingface.co/datasets/david4096/wildbio/blob/main/benchmark_lg_embed-distance.pkl\n",
    "import pickle\n",
    "with open('benchmark_lg_embed-distance.pkl', 'rb') as f:  # Open file in write-binary mode\n",
    "    bdx = pickle.load(f) \n",
    "\n",
    "# this is the original dataset with added fields\n",
    "# original question\n",
    "bdx[168]['conversation'][0]\n",
    "# original response\n",
    "bdx[168]['conversation'][0]\n",
    "# dictionary of LLM responses\n",
    "bdx[168]['compare']\n",
    "# dictionary of levenshtein distances\n",
    "bdx[168]['response-ldistances']\n",
    "# levenshtein similarity calculation to original response\n",
    "bdx[168]['response-similarity']\n",
    "# embedding of prompt\n",
    "bdx[168]['prompt-embed']\n",
    "#embedding of original response\n",
    "bdx[168]['response-embed']\n",
    "# dictionary of embeddings for responses\n",
    "bdx[168]['embeddings']\n",
    "# distance in embedding space to original response\n",
    "bdx[168]['response-sdistances']\n"
   ]
  },
  {
   "cell_type": "code",
   "execution_count": null,
   "id": "cda46704-b089-4f58-b24d-ec6c0f936e78",
   "metadata": {},
   "outputs": [],
   "source": []
  }
 ],
 "metadata": {
  "kernelspec": {
   "display_name": "Python 3 (ipykernel)",
   "language": "python",
   "name": "python3"
  },
  "language_info": {
   "codemirror_mode": {
    "name": "ipython",
    "version": 3
   },
   "file_extension": ".py",
   "mimetype": "text/x-python",
   "name": "python",
   "nbconvert_exporter": "python",
   "pygments_lexer": "ipython3",
   "version": "3.12.5"
  }
 },
 "nbformat": 4,
 "nbformat_minor": 5
}
